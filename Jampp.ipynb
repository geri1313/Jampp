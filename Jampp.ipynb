{
 "cells": [
  {
   "cell_type": "markdown",
   "metadata": {},
   "source": [
    "# Ex 1"
   ]
  },
  {
   "cell_type": "code",
   "execution_count": 1,
   "metadata": {},
   "outputs": [],
   "source": [
    "import random\n",
    "\n",
    "def weighted_random(values, weights):\n",
    "    total_weight = sum(weights)\n",
    "    acum_weights = [w / total_weight for w in weights[:]]\n",
    "    for i in range(len(weights)):\n",
    "        acum_weights[i] += acum_weights[i]\n",
    "    rand = random.random()\n",
    "    for value, weight in zip(values, acum_weights):\n",
    "        if weight > rand:\n",
    "            return value"
   ]
  },
  {
   "cell_type": "markdown",
   "metadata": {},
   "source": [
    "I have changed the code based on the cumulative distribution of the variable. \n",
    "The random variable is a number between 0 and 1, so one half of the times will be <=0.5,then the value will be 1. \n",
    "30% of the times will be between 0.5 an 0.8, and will obtain 2,\n",
    "and 20% of the times will be betwen 0.8 and 1, which result in number 3"
   ]
  },
  {
   "cell_type": "code",
   "execution_count": 235,
   "metadata": {},
   "outputs": [],
   "source": [
    "import random\n",
    "\n",
    "def weighted_random(values, weights):\n",
    "    acum_weights=[w for w in weights[:]]\n",
    "    for i in range(len(weights)):\n",
    "        for value, weight in zip(values, acum_weights):\n",
    "            rand = random.random()\n",
    "            if weight > rand:\n",
    "                return value"
   ]
  },
  {
   "cell_type": "code",
   "execution_count": 280,
   "metadata": {},
   "outputs": [
    {
     "data": {
      "text/plain": [
       "1"
      ]
     },
     "execution_count": 280,
     "metadata": {},
     "output_type": "execute_result"
    }
   ],
   "source": [
    "weighted_random([1, 2, 3], [0.5, 0.3, 0.2])"
   ]
  },
  {
   "cell_type": "markdown",
   "metadata": {},
   "source": [
    "# Ex 2"
   ]
  },
  {
   "cell_type": "code",
   "execution_count": null,
   "metadata": {},
   "outputs": [],
   "source": [
    "WITH events AS (\n",
    "    SELECT \n",
    "        device_id,\n",
    "        time_stamp,\n",
    "        LEAD(time_stamp) OVER (PARTITION BY device_id ORDER BY time_stamp) as next_time_stamp\n",
    "    from events table\n",
    "    where month='201908'\n",
    "    and app_id=1\n",
    "    and event_id=4\n",
    "),\n",
    "per_event AS (\n",
    "    SELECT\n",
    "        device_id,\n",
    "        DATEDIFF('second',time_stamp,next_time_stamp) as time_diff\n",
    "    FROM events\n",
    ")\n",
    "select\n",
    "    device_id,\n",
    "    AVG(time_diff) as avg_per_user\n",
    "FROM per_event\n",
    "GROUP BY 1\n",
    ";"
   ]
  },
  {
   "cell_type": "markdown",
   "metadata": {},
   "source": [
    "This code calculates the average time (in seconds) that each device_id does, between one event_id=4, and the following event_id=4. That is for the app_id=1 in the month='201908'"
   ]
  },
  {
   "cell_type": "code",
   "execution_count": null,
   "metadata": {},
   "outputs": [],
   "source": [
    "drop table if exists prueba;\n",
    "    SELECT \n",
    "        device_id,\n",
    "        time_stamp,\n",
    "        event_id \n",
    "    into temp table prueba from events_table\n",
    "    where month='201908'\n",
    "    and app_id=1\n",
    "    and event_id=4\n",
    "    order by device_id,event_id,time_stamp\n",
    ";\n",
    "\n",
    "drop table if exists nro;\n",
    "    select \n",
    "        device_id,\n",
    "        time_stamp,\n",
    "        ROW_NUMBER() OVER (ORDER BY device_id,event_id,time_stamp) rownum,\n",
    "        rownum-1 as nueva\n",
    "    into temp table nro from prueba\n",
    ";\n",
    "\n",
    "select device_id,avg(time_diff) as avg_per_user\n",
    "from\n",
    "    (select  a.device_id,\n",
    "             a.time_stamp,\n",
    "             b.next_time_stamp,\n",
    "             DATEDIFF('second',time_stamp,next_time_stamp) as time_diff\n",
    "    from nro a\n",
    "join \n",
    "    (select device_id,\n",
    "            time_stamp as next_time_stamp, \n",
    "            nueva\n",
    "    from nro) b\n",
    "on a.rownum=b.nueva and a.device_id=b.device_id\n",
    ")\n",
    "\n",
    "group by 1;"
   ]
  },
  {
   "cell_type": "markdown",
   "metadata": {},
   "source": [
    "this one is the code version without the window function"
   ]
  },
  {
   "cell_type": "markdown",
   "metadata": {},
   "source": [
    "# Ex 3"
   ]
  },
  {
   "cell_type": "markdown",
   "metadata": {},
   "source": [
    "For solving the problem, I´m doing an iteration between 1 to 999 sailors (maximum coins is less than 1000).\n",
    "R (remainder) is calculated for each combination of number of sailors.\n",
    "Then I obtain the maximum R, and obtain the number of sailors taken from the index. "
   ]
  },
  {
   "cell_type": "code",
   "execution_count": 343,
   "metadata": {},
   "outputs": [],
   "source": [
    "sailors=list(range(1000))\n",
    "remainders=[]\n",
    "def morgan (money):\n",
    "    for s in sailors:\n",
    "        s+=s+1\n",
    "        R=money-s*(money//s)\n",
    "        remainders.append(R)\n",
    "        num_sailors=remainders.index(max(remainders))\n",
    "    print (num_sailors)"
   ]
  },
  {
   "cell_type": "code",
   "execution_count": 344,
   "metadata": {},
   "outputs": [
    {
     "name": "stdout",
     "output_type": "stream",
     "text": [
      "477\n"
     ]
    }
   ],
   "source": [
    "morgan(953)"
   ]
  }
 ],
 "metadata": {
  "kernelspec": {
   "display_name": "Python 3",
   "language": "python",
   "name": "python3"
  },
  "language_info": {
   "codemirror_mode": {
    "name": "ipython",
    "version": 3
   },
   "file_extension": ".py",
   "mimetype": "text/x-python",
   "name": "python",
   "nbconvert_exporter": "python",
   "pygments_lexer": "ipython3",
   "version": "3.7.4"
  }
 },
 "nbformat": 4,
 "nbformat_minor": 2
}
